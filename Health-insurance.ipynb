{
 "cells": [
  {
   "cell_type": "markdown",
   "metadata": {},
   "source": [
    "## INTRODUCTION\n",
    "The project aims to answer a question in the field Health insurance in France using Statistical data on the fees of liberal health professionals; using two Excel datasets extracted from ‘Ameli’ website:\n",
    "\n",
    "    df1 = Workforce and density by department in 2018\n",
    "    df2 = Total fees of health professionals by department in 2018\n",
    "\n",
    "###   ** The query :*\n",
    "   > Can we establish a **link** between the **density of physicians** by specialty and by territory and the **practice of exceeding fees** ? "
   ]
  },
  {
   "cell_type": "code",
   "execution_count": 1,
   "metadata": {
    "ExecuteTime": {
     "end_time": "2020-12-30T16:06:17.194447Z",
     "start_time": "2020-12-30T16:06:14.437994Z"
    }
   },
   "outputs": [],
   "source": [
    "import pandas as pd\n",
    "import numpy as np\n",
    "import matplotlib.pyplot as plt\n",
    "import seaborn as sns"
   ]
  },
  {
   "cell_type": "markdown",
   "metadata": {},
   "source": [
    "## Importing 1st DataFrame "
   ]
  },
  {
   "cell_type": "markdown",
   "metadata": {},
   "source": [
    "> the header of each first column of each sheet has been changed to **physicians**; the purpose is merging all in one column for clearer analysis "
   ]
  },
  {
   "cell_type": "code",
   "execution_count": 2,
   "metadata": {
    "ExecuteTime": {
     "end_time": "2020-12-30T16:06:19.341003Z",
     "start_time": "2020-12-30T16:06:18.798371Z"
    }
   },
   "outputs": [],
   "source": [
    "df1 = pd.read_excel(\"ameli.xls\", sheet_name=[2,3,4,5,6,7])"
   ]
  },
  {
   "cell_type": "code",
   "execution_count": 3,
   "metadata": {
    "ExecuteTime": {
     "end_time": "2020-12-30T16:06:27.150295Z",
     "start_time": "2020-12-30T16:06:27.139410Z"
    }
   },
   "outputs": [],
   "source": [
    "hp = pd.concat(df1, ignore_index=True)"
   ]
  },
  {
   "cell_type": "code",
   "execution_count": 4,
   "metadata": {
    "ExecuteTime": {
     "end_time": "2020-12-30T16:06:27.584432Z",
     "start_time": "2020-12-30T16:06:27.573231Z"
    },
    "scrolled": true
   },
   "outputs": [
    {
     "data": {
      "text/plain": [
       "Index(['Spécialistes', 'DEPARTEMENT', 'EFFECTIF', 'POPULATION FRANCAISE',\n",
       "       'DENSITE /100 000 hab.'],\n",
       "      dtype='object')"
      ]
     },
     "execution_count": 4,
     "metadata": {},
     "output_type": "execute_result"
    }
   ],
   "source": [
    "hp.keys()"
   ]
  },
  {
   "cell_type": "code",
   "execution_count": 5,
   "metadata": {
    "ExecuteTime": {
     "end_time": "2020-12-30T16:06:28.780816Z",
     "start_time": "2020-12-30T16:06:28.750719Z"
    },
    "scrolled": false
   },
   "outputs": [
    {
     "data": {
      "text/html": [
       "<div>\n",
       "<style scoped>\n",
       "    .dataframe tbody tr th:only-of-type {\n",
       "        vertical-align: middle;\n",
       "    }\n",
       "\n",
       "    .dataframe tbody tr th {\n",
       "        vertical-align: top;\n",
       "    }\n",
       "\n",
       "    .dataframe thead th {\n",
       "        text-align: right;\n",
       "    }\n",
       "</style>\n",
       "<table border=\"1\" class=\"dataframe\">\n",
       "  <thead>\n",
       "    <tr style=\"text-align: right;\">\n",
       "      <th></th>\n",
       "      <th>Spécialistes</th>\n",
       "      <th>DEPARTEMENT</th>\n",
       "      <th>EFFECTIF</th>\n",
       "      <th>POPULATION FRANCAISE</th>\n",
       "      <th>DENSITE /100 000 hab.</th>\n",
       "    </tr>\n",
       "  </thead>\n",
       "  <tbody>\n",
       "    <tr>\n",
       "      <th>0</th>\n",
       "      <td>02- Anesthésie-réanimation chirurgicale</td>\n",
       "      <td>01- Ain</td>\n",
       "      <td>18</td>\n",
       "      <td>653688.0</td>\n",
       "      <td>2.753607</td>\n",
       "    </tr>\n",
       "    <tr>\n",
       "      <th>1</th>\n",
       "      <td>02- Anesthésie-réanimation chirurgicale</td>\n",
       "      <td>02- Aisne</td>\n",
       "      <td>19</td>\n",
       "      <td>528016.0</td>\n",
       "      <td>3.598376</td>\n",
       "    </tr>\n",
       "    <tr>\n",
       "      <th>2</th>\n",
       "      <td>02- Anesthésie-réanimation chirurgicale</td>\n",
       "      <td>03- Allier</td>\n",
       "      <td>17</td>\n",
       "      <td>333065.0</td>\n",
       "      <td>5.104109</td>\n",
       "    </tr>\n",
       "    <tr>\n",
       "      <th>3</th>\n",
       "      <td>02- Anesthésie-réanimation chirurgicale</td>\n",
       "      <td>04- Alpes-Hte-Provence</td>\n",
       "      <td>4</td>\n",
       "      <td>161980.0</td>\n",
       "      <td>2.469441</td>\n",
       "    </tr>\n",
       "    <tr>\n",
       "      <th>4</th>\n",
       "      <td>02- Anesthésie-réanimation chirurgicale</td>\n",
       "      <td>05- Hautes-Alpes</td>\n",
       "      <td>6</td>\n",
       "      <td>141784.0</td>\n",
       "      <td>4.231789</td>\n",
       "    </tr>\n",
       "  </tbody>\n",
       "</table>\n",
       "</div>"
      ],
      "text/plain": [
       "                              Spécialistes             DEPARTEMENT  EFFECTIF  \\\n",
       "0  02- Anesthésie-réanimation chirurgicale                 01- Ain        18   \n",
       "1  02- Anesthésie-réanimation chirurgicale               02- Aisne        19   \n",
       "2  02- Anesthésie-réanimation chirurgicale              03- Allier        17   \n",
       "3  02- Anesthésie-réanimation chirurgicale  04- Alpes-Hte-Provence         4   \n",
       "4  02- Anesthésie-réanimation chirurgicale        05- Hautes-Alpes         6   \n",
       "\n",
       "   POPULATION FRANCAISE  DENSITE /100 000 hab.  \n",
       "0              653688.0               2.753607  \n",
       "1              528016.0               3.598376  \n",
       "2              333065.0               5.104109  \n",
       "3              161980.0               2.469441  \n",
       "4              141784.0               4.231789  "
      ]
     },
     "execution_count": 5,
     "metadata": {},
     "output_type": "execute_result"
    }
   ],
   "source": [
    "hp.head()"
   ]
  },
  {
   "cell_type": "code",
   "execution_count": 7,
   "metadata": {
    "ExecuteTime": {
     "end_time": "2020-12-30T16:06:31.542510Z",
     "start_time": "2020-12-30T16:06:31.531861Z"
    },
    "scrolled": true
   },
   "outputs": [
    {
     "data": {
      "text/plain": [
       "Spécialistes             0\n",
       "DEPARTEMENT              0\n",
       "EFFECTIF                 0\n",
       "POPULATION FRANCAISE     0\n",
       "DENSITE /100 000 hab.    0\n",
       "dtype: int64"
      ]
     },
     "execution_count": 7,
     "metadata": {},
     "output_type": "execute_result"
    }
   ],
   "source": [
    "hp.isnull().sum()"
   ]
  },
  {
   "cell_type": "markdown",
   "metadata": {},
   "source": [
    "## Importing 2nd DataFrame "
   ]
  },
  {
   "cell_type": "code",
   "execution_count": 9,
   "metadata": {
    "ExecuteTime": {
     "end_time": "2020-12-30T16:08:00.093562Z",
     "start_time": "2020-12-30T16:07:59.474222Z"
    }
   },
   "outputs": [],
   "source": [
    "df2 = pd.read_excel(\"fees.xls\", sheet_name=[2,3,4,5,6,7])"
   ]
  },
  {
   "cell_type": "code",
   "execution_count": 10,
   "metadata": {
    "ExecuteTime": {
     "end_time": "2020-12-30T16:08:00.788854Z",
     "start_time": "2020-12-30T16:08:00.767077Z"
    }
   },
   "outputs": [],
   "source": [
    "f_hp = pd.concat(df2, ignore_index=True)"
   ]
  },
  {
   "cell_type": "code",
   "execution_count": 11,
   "metadata": {
    "ExecuteTime": {
     "end_time": "2020-12-30T16:08:01.336969Z",
     "start_time": "2020-12-30T16:08:01.315903Z"
    },
    "scrolled": false
   },
   "outputs": [
    {
     "data": {
      "text/html": [
       "<div>\n",
       "<style scoped>\n",
       "    .dataframe tbody tr th:only-of-type {\n",
       "        vertical-align: middle;\n",
       "    }\n",
       "\n",
       "    .dataframe tbody tr th {\n",
       "        vertical-align: top;\n",
       "    }\n",
       "\n",
       "    .dataframe thead th {\n",
       "        text-align: right;\n",
       "    }\n",
       "</style>\n",
       "<table border=\"1\" class=\"dataframe\">\n",
       "  <thead>\n",
       "    <tr style=\"text-align: right;\">\n",
       "      <th></th>\n",
       "      <th>Spécialistes</th>\n",
       "      <th>DEPARTEMENT</th>\n",
       "      <th>EFFECTIFS</th>\n",
       "      <th>HONORAIRES SANS DEPASSEMENT (Euros)</th>\n",
       "      <th>DEPASSEMENTS (Euros)</th>\n",
       "      <th>FRAIS DE DEPLACEMENT (Euros)</th>\n",
       "      <th>TOTAL DES HONORAIRES (Euros)</th>\n",
       "    </tr>\n",
       "  </thead>\n",
       "  <tbody>\n",
       "    <tr>\n",
       "      <th>0</th>\n",
       "      <td>02- Anesthésie-réanimation chirurgicale</td>\n",
       "      <td>01- Ain</td>\n",
       "      <td>18.0</td>\n",
       "      <td>5.13279e+06</td>\n",
       "      <td>2.6588e+06</td>\n",
       "      <td>0</td>\n",
       "      <td>7.79159e+06</td>\n",
       "    </tr>\n",
       "    <tr>\n",
       "      <th>1</th>\n",
       "      <td>02- Anesthésie-réanimation chirurgicale</td>\n",
       "      <td>02- Aisne</td>\n",
       "      <td>19.0</td>\n",
       "      <td>5.26123e+06</td>\n",
       "      <td>456535</td>\n",
       "      <td>0</td>\n",
       "      <td>5.71777e+06</td>\n",
       "    </tr>\n",
       "    <tr>\n",
       "      <th>2</th>\n",
       "      <td>02- Anesthésie-réanimation chirurgicale</td>\n",
       "      <td>03- Allier</td>\n",
       "      <td>17.0</td>\n",
       "      <td>5.0744e+06</td>\n",
       "      <td>531455</td>\n",
       "      <td>0</td>\n",
       "      <td>5.60586e+06</td>\n",
       "    </tr>\n",
       "    <tr>\n",
       "      <th>3</th>\n",
       "      <td>02- Anesthésie-réanimation chirurgicale</td>\n",
       "      <td>04- Alpes-Hte-Provence</td>\n",
       "      <td>4.0</td>\n",
       "      <td>nc</td>\n",
       "      <td>nc</td>\n",
       "      <td>nc</td>\n",
       "      <td>nc</td>\n",
       "    </tr>\n",
       "    <tr>\n",
       "      <th>4</th>\n",
       "      <td>02- Anesthésie-réanimation chirurgicale</td>\n",
       "      <td>05- Hautes-Alpes</td>\n",
       "      <td>6.0</td>\n",
       "      <td>nc</td>\n",
       "      <td>nc</td>\n",
       "      <td>nc</td>\n",
       "      <td>nc</td>\n",
       "    </tr>\n",
       "  </tbody>\n",
       "</table>\n",
       "</div>"
      ],
      "text/plain": [
       "                              Spécialistes             DEPARTEMENT  EFFECTIFS  \\\n",
       "0  02- Anesthésie-réanimation chirurgicale                 01- Ain       18.0   \n",
       "1  02- Anesthésie-réanimation chirurgicale               02- Aisne       19.0   \n",
       "2  02- Anesthésie-réanimation chirurgicale              03- Allier       17.0   \n",
       "3  02- Anesthésie-réanimation chirurgicale  04- Alpes-Hte-Provence        4.0   \n",
       "4  02- Anesthésie-réanimation chirurgicale        05- Hautes-Alpes        6.0   \n",
       "\n",
       "  HONORAIRES SANS DEPASSEMENT (Euros) DEPASSEMENTS (Euros)  \\\n",
       "0                         5.13279e+06           2.6588e+06   \n",
       "1                         5.26123e+06               456535   \n",
       "2                          5.0744e+06               531455   \n",
       "3                                  nc                   nc   \n",
       "4                                  nc                   nc   \n",
       "\n",
       "  FRAIS DE DEPLACEMENT (Euros) TOTAL DES HONORAIRES (Euros)  \n",
       "0                            0                  7.79159e+06  \n",
       "1                            0                  5.71777e+06  \n",
       "2                            0                  5.60586e+06  \n",
       "3                           nc                           nc  \n",
       "4                           nc                           nc  "
      ]
     },
     "execution_count": 11,
     "metadata": {},
     "output_type": "execute_result"
    }
   ],
   "source": [
    "f_hp.head()"
   ]
  },
  {
   "cell_type": "code",
   "execution_count": 12,
   "metadata": {
    "ExecuteTime": {
     "end_time": "2020-12-30T16:08:03.129505Z",
     "start_time": "2020-12-30T16:08:03.118549Z"
    }
   },
   "outputs": [],
   "source": [
    "f_hp = f_hp.drop(['HONORAIRES SANS DEPASSEMENT (Euros)', 'FRAIS DE DEPLACEMENT (Euros)', 'TOTAL DES HONORAIRES (Euros)'] , axis=1)"
   ]
  },
  {
   "cell_type": "markdown",
   "metadata": {},
   "source": [
    "### we have 'nc' values due to effective <11 therefore we replace nc with NaN for easy analysis later on"
   ]
  },
  {
   "cell_type": "code",
   "execution_count": 13,
   "metadata": {
    "ExecuteTime": {
     "end_time": "2020-12-30T16:08:04.650783Z",
     "start_time": "2020-12-30T16:08:04.635288Z"
    },
    "scrolled": true
   },
   "outputs": [],
   "source": [
    "f_hp = f_hp.replace('nc', np.NaN)"
   ]
  },
  {
   "cell_type": "code",
   "execution_count": 14,
   "metadata": {
    "ExecuteTime": {
     "end_time": "2020-12-30T16:08:05.195304Z",
     "start_time": "2020-12-30T16:08:05.181668Z"
    },
    "scrolled": true
   },
   "outputs": [
    {
     "data": {
      "text/plain": [
       "Spécialistes               0\n",
       "DEPARTEMENT                0\n",
       "EFFECTIFS                  0\n",
       "DEPASSEMENTS (Euros)    3481\n",
       "dtype: int64"
      ]
     },
     "execution_count": 14,
     "metadata": {},
     "output_type": "execute_result"
    }
   ],
   "source": [
    "f_hp.isna().sum()"
   ]
  },
  {
   "cell_type": "code",
   "execution_count": 16,
   "metadata": {
    "ExecuteTime": {
     "end_time": "2020-12-30T16:08:09.980100Z",
     "start_time": "2020-12-30T16:08:09.963277Z"
    }
   },
   "outputs": [
    {
     "data": {
      "text/html": [
       "<div>\n",
       "<style scoped>\n",
       "    .dataframe tbody tr th:only-of-type {\n",
       "        vertical-align: middle;\n",
       "    }\n",
       "\n",
       "    .dataframe tbody tr th {\n",
       "        vertical-align: top;\n",
       "    }\n",
       "\n",
       "    .dataframe thead th {\n",
       "        text-align: right;\n",
       "    }\n",
       "</style>\n",
       "<table border=\"1\" class=\"dataframe\">\n",
       "  <thead>\n",
       "    <tr style=\"text-align: right;\">\n",
       "      <th></th>\n",
       "      <th>Spécialistes</th>\n",
       "      <th>DEPARTEMENT</th>\n",
       "      <th>EFFECTIFS</th>\n",
       "      <th>DEPASSEMENTS (Euros)</th>\n",
       "    </tr>\n",
       "  </thead>\n",
       "  <tbody>\n",
       "    <tr>\n",
       "      <th>0</th>\n",
       "      <td>02- Anesthésie-réanimation chirurgicale</td>\n",
       "      <td>01- Ain</td>\n",
       "      <td>18.0</td>\n",
       "      <td>2658795.49</td>\n",
       "    </tr>\n",
       "    <tr>\n",
       "      <th>1</th>\n",
       "      <td>02- Anesthésie-réanimation chirurgicale</td>\n",
       "      <td>02- Aisne</td>\n",
       "      <td>19.0</td>\n",
       "      <td>456534.65</td>\n",
       "    </tr>\n",
       "    <tr>\n",
       "      <th>2</th>\n",
       "      <td>02- Anesthésie-réanimation chirurgicale</td>\n",
       "      <td>03- Allier</td>\n",
       "      <td>17.0</td>\n",
       "      <td>531455.38</td>\n",
       "    </tr>\n",
       "    <tr>\n",
       "      <th>3</th>\n",
       "      <td>02- Anesthésie-réanimation chirurgicale</td>\n",
       "      <td>04- Alpes-Hte-Provence</td>\n",
       "      <td>4.0</td>\n",
       "      <td>NaN</td>\n",
       "    </tr>\n",
       "    <tr>\n",
       "      <th>4</th>\n",
       "      <td>02- Anesthésie-réanimation chirurgicale</td>\n",
       "      <td>05- Hautes-Alpes</td>\n",
       "      <td>6.0</td>\n",
       "      <td>NaN</td>\n",
       "    </tr>\n",
       "  </tbody>\n",
       "</table>\n",
       "</div>"
      ],
      "text/plain": [
       "                              Spécialistes             DEPARTEMENT  EFFECTIFS  \\\n",
       "0  02- Anesthésie-réanimation chirurgicale                 01- Ain       18.0   \n",
       "1  02- Anesthésie-réanimation chirurgicale               02- Aisne       19.0   \n",
       "2  02- Anesthésie-réanimation chirurgicale              03- Allier       17.0   \n",
       "3  02- Anesthésie-réanimation chirurgicale  04- Alpes-Hte-Provence        4.0   \n",
       "4  02- Anesthésie-réanimation chirurgicale        05- Hautes-Alpes        6.0   \n",
       "\n",
       "   DEPASSEMENTS (Euros)  \n",
       "0            2658795.49  \n",
       "1             456534.65  \n",
       "2             531455.38  \n",
       "3                   NaN  \n",
       "4                   NaN  "
      ]
     },
     "execution_count": 16,
     "metadata": {},
     "output_type": "execute_result"
    }
   ],
   "source": [
    "f_hp.head()"
   ]
  },
  {
   "cell_type": "markdown",
   "metadata": {},
   "source": [
    "## Merging the two dataframes"
   ]
  },
  {
   "cell_type": "markdown",
   "metadata": {},
   "source": [
    "df1 has 'EFFECTIF' column whereas df2 has 'EFFECTIFS' therefore:"
   ]
  },
  {
   "cell_type": "code",
   "execution_count": 17,
   "metadata": {
    "ExecuteTime": {
     "end_time": "2020-12-30T16:08:23.576190Z",
     "start_time": "2020-12-30T16:08:23.569965Z"
    }
   },
   "outputs": [],
   "source": [
    "hp = hp.rename({'EFFECTIF':'EFFECTIFS'}, axis=1)"
   ]
  },
  {
   "cell_type": "code",
   "execution_count": 18,
   "metadata": {
    "ExecuteTime": {
     "end_time": "2020-12-30T16:08:24.550618Z",
     "start_time": "2020-12-30T16:08:24.502438Z"
    }
   },
   "outputs": [],
   "source": [
    "df1_df2 = f_hp.merge(hp, how='left', on=['DEPARTEMENT','EFFECTIFS',\n",
    "                                      'Spécialistes'])"
   ]
  },
  {
   "cell_type": "code",
   "execution_count": 19,
   "metadata": {
    "ExecuteTime": {
     "end_time": "2020-12-30T16:08:25.992710Z",
     "start_time": "2020-12-30T16:08:25.978251Z"
    },
    "scrolled": true
   },
   "outputs": [
    {
     "data": {
      "text/html": [
       "<div>\n",
       "<style scoped>\n",
       "    .dataframe tbody tr th:only-of-type {\n",
       "        vertical-align: middle;\n",
       "    }\n",
       "\n",
       "    .dataframe tbody tr th {\n",
       "        vertical-align: top;\n",
       "    }\n",
       "\n",
       "    .dataframe thead th {\n",
       "        text-align: right;\n",
       "    }\n",
       "</style>\n",
       "<table border=\"1\" class=\"dataframe\">\n",
       "  <thead>\n",
       "    <tr style=\"text-align: right;\">\n",
       "      <th></th>\n",
       "      <th>Spécialistes</th>\n",
       "      <th>DEPARTEMENT</th>\n",
       "      <th>EFFECTIFS</th>\n",
       "      <th>DEPASSEMENTS (Euros)</th>\n",
       "      <th>POPULATION FRANCAISE</th>\n",
       "      <th>DENSITE /100 000 hab.</th>\n",
       "    </tr>\n",
       "  </thead>\n",
       "  <tbody>\n",
       "    <tr>\n",
       "      <th>0</th>\n",
       "      <td>02- Anesthésie-réanimation chirurgicale</td>\n",
       "      <td>01- Ain</td>\n",
       "      <td>18.0</td>\n",
       "      <td>2658795.49</td>\n",
       "      <td>653688.0</td>\n",
       "      <td>2.753607</td>\n",
       "    </tr>\n",
       "    <tr>\n",
       "      <th>1</th>\n",
       "      <td>02- Anesthésie-réanimation chirurgicale</td>\n",
       "      <td>02- Aisne</td>\n",
       "      <td>19.0</td>\n",
       "      <td>456534.65</td>\n",
       "      <td>528016.0</td>\n",
       "      <td>3.598376</td>\n",
       "    </tr>\n",
       "    <tr>\n",
       "      <th>2</th>\n",
       "      <td>02- Anesthésie-réanimation chirurgicale</td>\n",
       "      <td>03- Allier</td>\n",
       "      <td>17.0</td>\n",
       "      <td>531455.38</td>\n",
       "      <td>333065.0</td>\n",
       "      <td>5.104109</td>\n",
       "    </tr>\n",
       "    <tr>\n",
       "      <th>3</th>\n",
       "      <td>02- Anesthésie-réanimation chirurgicale</td>\n",
       "      <td>04- Alpes-Hte-Provence</td>\n",
       "      <td>4.0</td>\n",
       "      <td>NaN</td>\n",
       "      <td>161980.0</td>\n",
       "      <td>2.469441</td>\n",
       "    </tr>\n",
       "    <tr>\n",
       "      <th>4</th>\n",
       "      <td>02- Anesthésie-réanimation chirurgicale</td>\n",
       "      <td>05- Hautes-Alpes</td>\n",
       "      <td>6.0</td>\n",
       "      <td>NaN</td>\n",
       "      <td>141784.0</td>\n",
       "      <td>4.231789</td>\n",
       "    </tr>\n",
       "  </tbody>\n",
       "</table>\n",
       "</div>"
      ],
      "text/plain": [
       "                              Spécialistes             DEPARTEMENT  EFFECTIFS  \\\n",
       "0  02- Anesthésie-réanimation chirurgicale                 01- Ain       18.0   \n",
       "1  02- Anesthésie-réanimation chirurgicale               02- Aisne       19.0   \n",
       "2  02- Anesthésie-réanimation chirurgicale              03- Allier       17.0   \n",
       "3  02- Anesthésie-réanimation chirurgicale  04- Alpes-Hte-Provence        4.0   \n",
       "4  02- Anesthésie-réanimation chirurgicale        05- Hautes-Alpes        6.0   \n",
       "\n",
       "   DEPASSEMENTS (Euros)  POPULATION FRANCAISE  DENSITE /100 000 hab.  \n",
       "0            2658795.49              653688.0               2.753607  \n",
       "1             456534.65              528016.0               3.598376  \n",
       "2             531455.38              333065.0               5.104109  \n",
       "3                   NaN              161980.0               2.469441  \n",
       "4                   NaN              141784.0               4.231789  "
      ]
     },
     "execution_count": 19,
     "metadata": {},
     "output_type": "execute_result"
    }
   ],
   "source": [
    "df1_df2.head()"
   ]
  },
  {
   "cell_type": "code",
   "execution_count": 20,
   "metadata": {
    "ExecuteTime": {
     "end_time": "2020-12-30T16:08:27.513682Z",
     "start_time": "2020-12-30T16:08:27.507512Z"
    }
   },
   "outputs": [
    {
     "data": {
      "text/plain": [
       "(14040, 6)"
      ]
     },
     "execution_count": 20,
     "metadata": {},
     "output_type": "execute_result"
    }
   ],
   "source": [
    "df1_df2.shape"
   ]
  },
  {
   "cell_type": "markdown",
   "metadata": {},
   "source": [
    "### For enhanced analysis we import the dataframe with the speciality corresponding to each physician "
   ]
  },
  {
   "cell_type": "markdown",
   "metadata": {},
   "source": [
    "> On the excel file of df1, in sheet2 we have details **'Nomenclature des PS'** therefore we extract the two columns about speciality and the corresponding professional activity of physician"
   ]
  },
  {
   "cell_type": "code",
   "execution_count": 21,
   "metadata": {
    "ExecuteTime": {
     "end_time": "2020-12-30T16:08:51.609489Z",
     "start_time": "2020-12-30T16:08:51.208137Z"
    }
   },
   "outputs": [],
   "source": [
    "df3 = pd.read_excel(\"ameli.xls\", sheet_name=8)"
   ]
  },
  {
   "cell_type": "code",
   "execution_count": 22,
   "metadata": {
    "ExecuteTime": {
     "end_time": "2020-12-30T16:08:52.439027Z",
     "start_time": "2020-12-30T16:08:52.423758Z"
    },
    "scrolled": false
   },
   "outputs": [
    {
     "data": {
      "text/html": [
       "<div>\n",
       "<style scoped>\n",
       "    .dataframe tbody tr th:only-of-type {\n",
       "        vertical-align: middle;\n",
       "    }\n",
       "\n",
       "    .dataframe tbody tr th {\n",
       "        vertical-align: top;\n",
       "    }\n",
       "\n",
       "    .dataframe thead th {\n",
       "        text-align: right;\n",
       "    }\n",
       "</style>\n",
       "<table border=\"1\" class=\"dataframe\">\n",
       "  <thead>\n",
       "    <tr style=\"text-align: right;\">\n",
       "      <th></th>\n",
       "      <th>Specialité</th>\n",
       "      <th>Spécialistes</th>\n",
       "    </tr>\n",
       "  </thead>\n",
       "  <tbody>\n",
       "    <tr>\n",
       "      <th>0</th>\n",
       "      <td>Spécialistes</td>\n",
       "      <td>TOTAL MEDECINS</td>\n",
       "    </tr>\n",
       "    <tr>\n",
       "      <th>1</th>\n",
       "      <td>Spécialistes</td>\n",
       "      <td>TOTAL SPECIALISTES</td>\n",
       "    </tr>\n",
       "    <tr>\n",
       "      <th>2</th>\n",
       "      <td>Spécialistes</td>\n",
       "      <td>02- Anesthésie-réanimation chirurgicale</td>\n",
       "    </tr>\n",
       "    <tr>\n",
       "      <th>3</th>\n",
       "      <td>Spécialistes</td>\n",
       "      <td>03- Pathologie cardio-vasculaire</td>\n",
       "    </tr>\n",
       "    <tr>\n",
       "      <th>4</th>\n",
       "      <td>Spécialistes</td>\n",
       "      <td>04- Chirurgie générale</td>\n",
       "    </tr>\n",
       "    <tr>\n",
       "      <th>...</th>\n",
       "      <td>...</td>\n",
       "      <td>...</td>\n",
       "    </tr>\n",
       "    <tr>\n",
       "      <th>135</th>\n",
       "      <td>Dentistes et ODF</td>\n",
       "      <td>TOTAL CHIRURGIE DENTAIRE (19, 36, 53, 54)</td>\n",
       "    </tr>\n",
       "    <tr>\n",
       "      <th>136</th>\n",
       "      <td>Laboratoires</td>\n",
       "      <td>30- Laboratoires</td>\n",
       "    </tr>\n",
       "    <tr>\n",
       "      <th>137</th>\n",
       "      <td>Laboratoires</td>\n",
       "      <td>39- Laboratoires polyvalents</td>\n",
       "    </tr>\n",
       "    <tr>\n",
       "      <th>138</th>\n",
       "      <td>Laboratoires</td>\n",
       "      <td>40- Laboratoires d’anatomo-cyto-pathologie</td>\n",
       "    </tr>\n",
       "    <tr>\n",
       "      <th>139</th>\n",
       "      <td>Laboratoires</td>\n",
       "      <td>TOTAL LABORATOIRES (30, 39, 40)</td>\n",
       "    </tr>\n",
       "  </tbody>\n",
       "</table>\n",
       "<p>140 rows × 2 columns</p>\n",
       "</div>"
      ],
      "text/plain": [
       "           Specialité                                Spécialistes\n",
       "0        Spécialistes                              TOTAL MEDECINS\n",
       "1        Spécialistes                          TOTAL SPECIALISTES\n",
       "2        Spécialistes     02- Anesthésie-réanimation chirurgicale\n",
       "3        Spécialistes            03- Pathologie cardio-vasculaire\n",
       "4        Spécialistes                      04- Chirurgie générale\n",
       "..                ...                                         ...\n",
       "135  Dentistes et ODF   TOTAL CHIRURGIE DENTAIRE (19, 36, 53, 54)\n",
       "136      Laboratoires                            30- Laboratoires\n",
       "137      Laboratoires                39- Laboratoires polyvalents\n",
       "138      Laboratoires  40- Laboratoires d’anatomo-cyto-pathologie\n",
       "139      Laboratoires             TOTAL LABORATOIRES (30, 39, 40)\n",
       "\n",
       "[140 rows x 2 columns]"
      ]
     },
     "execution_count": 22,
     "metadata": {},
     "output_type": "execute_result"
    }
   ],
   "source": [
    "df3"
   ]
  },
  {
   "cell_type": "code",
   "execution_count": 23,
   "metadata": {
    "ExecuteTime": {
     "end_time": "2020-12-30T16:08:55.955351Z",
     "start_time": "2020-12-30T16:08:55.941893Z"
    }
   },
   "outputs": [],
   "source": [
    "data = df1_df2.merge(df3, how='left', on=['Spécialistes'])"
   ]
  },
  {
   "cell_type": "code",
   "execution_count": 24,
   "metadata": {
    "ExecuteTime": {
     "end_time": "2020-12-30T16:08:56.718127Z",
     "start_time": "2020-12-30T16:08:56.699524Z"
    }
   },
   "outputs": [
    {
     "data": {
      "text/html": [
       "<div>\n",
       "<style scoped>\n",
       "    .dataframe tbody tr th:only-of-type {\n",
       "        vertical-align: middle;\n",
       "    }\n",
       "\n",
       "    .dataframe tbody tr th {\n",
       "        vertical-align: top;\n",
       "    }\n",
       "\n",
       "    .dataframe thead th {\n",
       "        text-align: right;\n",
       "    }\n",
       "</style>\n",
       "<table border=\"1\" class=\"dataframe\">\n",
       "  <thead>\n",
       "    <tr style=\"text-align: right;\">\n",
       "      <th></th>\n",
       "      <th>Spécialistes</th>\n",
       "      <th>DEPARTEMENT</th>\n",
       "      <th>EFFECTIFS</th>\n",
       "      <th>DEPASSEMENTS (Euros)</th>\n",
       "      <th>POPULATION FRANCAISE</th>\n",
       "      <th>DENSITE /100 000 hab.</th>\n",
       "      <th>Specialité</th>\n",
       "    </tr>\n",
       "  </thead>\n",
       "  <tbody>\n",
       "    <tr>\n",
       "      <th>0</th>\n",
       "      <td>02- Anesthésie-réanimation chirurgicale</td>\n",
       "      <td>01- Ain</td>\n",
       "      <td>18.0</td>\n",
       "      <td>2658795.49</td>\n",
       "      <td>653688.0</td>\n",
       "      <td>2.753607</td>\n",
       "      <td>Spécialistes</td>\n",
       "    </tr>\n",
       "    <tr>\n",
       "      <th>1</th>\n",
       "      <td>02- Anesthésie-réanimation chirurgicale</td>\n",
       "      <td>02- Aisne</td>\n",
       "      <td>19.0</td>\n",
       "      <td>456534.65</td>\n",
       "      <td>528016.0</td>\n",
       "      <td>3.598376</td>\n",
       "      <td>Spécialistes</td>\n",
       "    </tr>\n",
       "    <tr>\n",
       "      <th>2</th>\n",
       "      <td>02- Anesthésie-réanimation chirurgicale</td>\n",
       "      <td>03- Allier</td>\n",
       "      <td>17.0</td>\n",
       "      <td>531455.38</td>\n",
       "      <td>333065.0</td>\n",
       "      <td>5.104109</td>\n",
       "      <td>Spécialistes</td>\n",
       "    </tr>\n",
       "    <tr>\n",
       "      <th>3</th>\n",
       "      <td>02- Anesthésie-réanimation chirurgicale</td>\n",
       "      <td>04- Alpes-Hte-Provence</td>\n",
       "      <td>4.0</td>\n",
       "      <td>NaN</td>\n",
       "      <td>161980.0</td>\n",
       "      <td>2.469441</td>\n",
       "      <td>Spécialistes</td>\n",
       "    </tr>\n",
       "    <tr>\n",
       "      <th>4</th>\n",
       "      <td>02- Anesthésie-réanimation chirurgicale</td>\n",
       "      <td>05- Hautes-Alpes</td>\n",
       "      <td>6.0</td>\n",
       "      <td>NaN</td>\n",
       "      <td>141784.0</td>\n",
       "      <td>4.231789</td>\n",
       "      <td>Spécialistes</td>\n",
       "    </tr>\n",
       "  </tbody>\n",
       "</table>\n",
       "</div>"
      ],
      "text/plain": [
       "                              Spécialistes             DEPARTEMENT  EFFECTIFS  \\\n",
       "0  02- Anesthésie-réanimation chirurgicale                 01- Ain       18.0   \n",
       "1  02- Anesthésie-réanimation chirurgicale               02- Aisne       19.0   \n",
       "2  02- Anesthésie-réanimation chirurgicale              03- Allier       17.0   \n",
       "3  02- Anesthésie-réanimation chirurgicale  04- Alpes-Hte-Provence        4.0   \n",
       "4  02- Anesthésie-réanimation chirurgicale        05- Hautes-Alpes        6.0   \n",
       "\n",
       "   DEPASSEMENTS (Euros)  POPULATION FRANCAISE  DENSITE /100 000 hab.  \\\n",
       "0            2658795.49              653688.0               2.753607   \n",
       "1             456534.65              528016.0               3.598376   \n",
       "2             531455.38              333065.0               5.104109   \n",
       "3                   NaN              161980.0               2.469441   \n",
       "4                   NaN              141784.0               4.231789   \n",
       "\n",
       "     Specialité  \n",
       "0  Spécialistes  \n",
       "1  Spécialistes  \n",
       "2  Spécialistes  \n",
       "3  Spécialistes  \n",
       "4  Spécialistes  "
      ]
     },
     "execution_count": 24,
     "metadata": {},
     "output_type": "execute_result"
    }
   ],
   "source": [
    "data.head()"
   ]
  },
  {
   "cell_type": "markdown",
   "metadata": {},
   "source": [
    "## Since we have lot of departments we will add a corresponding region as there are only 18 regions in France"
   ]
  },
  {
   "cell_type": "code",
   "execution_count": 25,
   "metadata": {
    "ExecuteTime": {
     "end_time": "2020-12-30T16:09:24.649784Z",
     "start_time": "2020-12-30T16:09:24.294743Z"
    }
   },
   "outputs": [],
   "source": [
    "df4 = pd.read_excel(\"ameli.xls\", sheet_name=9)"
   ]
  },
  {
   "cell_type": "code",
   "execution_count": 26,
   "metadata": {
    "ExecuteTime": {
     "end_time": "2020-12-30T16:09:25.713611Z",
     "start_time": "2020-12-30T16:09:25.683302Z"
    },
    "scrolled": true
   },
   "outputs": [
    {
     "data": {
      "text/html": [
       "<div>\n",
       "<style scoped>\n",
       "    .dataframe tbody tr th:only-of-type {\n",
       "        vertical-align: middle;\n",
       "    }\n",
       "\n",
       "    .dataframe tbody tr th {\n",
       "        vertical-align: top;\n",
       "    }\n",
       "\n",
       "    .dataframe thead th {\n",
       "        text-align: right;\n",
       "    }\n",
       "</style>\n",
       "<table border=\"1\" class=\"dataframe\">\n",
       "  <thead>\n",
       "    <tr style=\"text-align: right;\">\n",
       "      <th></th>\n",
       "      <th>DEPARTEMENT</th>\n",
       "      <th>REGION</th>\n",
       "    </tr>\n",
       "  </thead>\n",
       "  <tbody>\n",
       "    <tr>\n",
       "      <th>0</th>\n",
       "      <td>01- Ain</td>\n",
       "      <td>Auvergne-Rhône-Alpes</td>\n",
       "    </tr>\n",
       "    <tr>\n",
       "      <th>1</th>\n",
       "      <td>02- Aisne</td>\n",
       "      <td>Nord-Pas-de-Calais-Picardie</td>\n",
       "    </tr>\n",
       "    <tr>\n",
       "      <th>2</th>\n",
       "      <td>03- Allier</td>\n",
       "      <td>Auvergne-Rhône-Alpes</td>\n",
       "    </tr>\n",
       "    <tr>\n",
       "      <th>3</th>\n",
       "      <td>04- Alpes-Hte-Provence</td>\n",
       "      <td>Provence-Alpes-Côte d'Azur</td>\n",
       "    </tr>\n",
       "    <tr>\n",
       "      <th>4</th>\n",
       "      <td>05- Hautes-Alpes</td>\n",
       "      <td>Provence-Alpes-Côte d'Azur</td>\n",
       "    </tr>\n",
       "    <tr>\n",
       "      <th>...</th>\n",
       "      <td>...</td>\n",
       "      <td>...</td>\n",
       "    </tr>\n",
       "    <tr>\n",
       "      <th>96</th>\n",
       "      <td>971- Guadeloupe</td>\n",
       "      <td>Guadeloupe</td>\n",
       "    </tr>\n",
       "    <tr>\n",
       "      <th>97</th>\n",
       "      <td>972- Martinique</td>\n",
       "      <td>Martinique</td>\n",
       "    </tr>\n",
       "    <tr>\n",
       "      <th>98</th>\n",
       "      <td>973- Guyane</td>\n",
       "      <td>Guyane</td>\n",
       "    </tr>\n",
       "    <tr>\n",
       "      <th>99</th>\n",
       "      <td>974- Réunion</td>\n",
       "      <td>La Réunion</td>\n",
       "    </tr>\n",
       "    <tr>\n",
       "      <th>100</th>\n",
       "      <td>976- Mayotte</td>\n",
       "      <td>Mayotte</td>\n",
       "    </tr>\n",
       "  </tbody>\n",
       "</table>\n",
       "<p>101 rows × 2 columns</p>\n",
       "</div>"
      ],
      "text/plain": [
       "               DEPARTEMENT                        REGION\n",
       "0                   01- Ain         Auvergne-Rhône-Alpes\n",
       "1                 02- Aisne  Nord-Pas-de-Calais-Picardie\n",
       "2                03- Allier         Auvergne-Rhône-Alpes\n",
       "3    04- Alpes-Hte-Provence   Provence-Alpes-Côte d'Azur\n",
       "4          05- Hautes-Alpes   Provence-Alpes-Côte d'Azur\n",
       "..                      ...                          ...\n",
       "96          971- Guadeloupe                   Guadeloupe\n",
       "97          972- Martinique                   Martinique\n",
       "98              973- Guyane                       Guyane\n",
       "99             974- Réunion                   La Réunion\n",
       "100            976- Mayotte                      Mayotte\n",
       "\n",
       "[101 rows x 2 columns]"
      ]
     },
     "execution_count": 26,
     "metadata": {},
     "output_type": "execute_result"
    }
   ],
   "source": [
    "df4 = df4.dropna()\n",
    "df4"
   ]
  },
  {
   "cell_type": "code",
   "execution_count": 27,
   "metadata": {
    "ExecuteTime": {
     "end_time": "2020-12-30T16:09:42.370810Z",
     "start_time": "2020-12-30T16:09:42.364242Z"
    }
   },
   "outputs": [],
   "source": [
    "df4 = df4.rename({' DEPARTEMENT ':'DEPARTEMENT'}, axis=1)"
   ]
  },
  {
   "cell_type": "code",
   "execution_count": 30,
   "metadata": {
    "ExecuteTime": {
     "end_time": "2020-12-30T16:10:07.714690Z",
     "start_time": "2020-12-30T16:10:07.691234Z"
    },
    "scrolled": true
   },
   "outputs": [
    {
     "data": {
      "text/html": [
       "<div>\n",
       "<style scoped>\n",
       "    .dataframe tbody tr th:only-of-type {\n",
       "        vertical-align: middle;\n",
       "    }\n",
       "\n",
       "    .dataframe tbody tr th {\n",
       "        vertical-align: top;\n",
       "    }\n",
       "\n",
       "    .dataframe thead th {\n",
       "        text-align: right;\n",
       "    }\n",
       "</style>\n",
       "<table border=\"1\" class=\"dataframe\">\n",
       "  <thead>\n",
       "    <tr style=\"text-align: right;\">\n",
       "      <th></th>\n",
       "      <th>Spécialistes</th>\n",
       "      <th>DEPARTEMENT</th>\n",
       "      <th>EFFECTIFS</th>\n",
       "      <th>DEPASSEMENTS (Euros)</th>\n",
       "      <th>POPULATION FRANCAISE</th>\n",
       "      <th>DENSITE /100 000 hab.</th>\n",
       "      <th>Specialité</th>\n",
       "      <th>REGION</th>\n",
       "    </tr>\n",
       "  </thead>\n",
       "  <tbody>\n",
       "    <tr>\n",
       "      <th>0</th>\n",
       "      <td>02- Anesthésie-réanimation chirurgicale</td>\n",
       "      <td>01- Ain</td>\n",
       "      <td>18.0</td>\n",
       "      <td>2658795.49</td>\n",
       "      <td>653688.0</td>\n",
       "      <td>2.753607</td>\n",
       "      <td>Spécialistes</td>\n",
       "      <td>Auvergne-Rhône-Alpes</td>\n",
       "    </tr>\n",
       "    <tr>\n",
       "      <th>1</th>\n",
       "      <td>02- Anesthésie-réanimation chirurgicale</td>\n",
       "      <td>02- Aisne</td>\n",
       "      <td>19.0</td>\n",
       "      <td>456534.65</td>\n",
       "      <td>528016.0</td>\n",
       "      <td>3.598376</td>\n",
       "      <td>Spécialistes</td>\n",
       "      <td>Nord-Pas-de-Calais-Picardie</td>\n",
       "    </tr>\n",
       "    <tr>\n",
       "      <th>2</th>\n",
       "      <td>02- Anesthésie-réanimation chirurgicale</td>\n",
       "      <td>03- Allier</td>\n",
       "      <td>17.0</td>\n",
       "      <td>531455.38</td>\n",
       "      <td>333065.0</td>\n",
       "      <td>5.104109</td>\n",
       "      <td>Spécialistes</td>\n",
       "      <td>Auvergne-Rhône-Alpes</td>\n",
       "    </tr>\n",
       "    <tr>\n",
       "      <th>3</th>\n",
       "      <td>02- Anesthésie-réanimation chirurgicale</td>\n",
       "      <td>04- Alpes-Hte-Provence</td>\n",
       "      <td>4.0</td>\n",
       "      <td>NaN</td>\n",
       "      <td>161980.0</td>\n",
       "      <td>2.469441</td>\n",
       "      <td>Spécialistes</td>\n",
       "      <td>Provence-Alpes-Côte d'Azur</td>\n",
       "    </tr>\n",
       "    <tr>\n",
       "      <th>4</th>\n",
       "      <td>02- Anesthésie-réanimation chirurgicale</td>\n",
       "      <td>05- Hautes-Alpes</td>\n",
       "      <td>6.0</td>\n",
       "      <td>NaN</td>\n",
       "      <td>141784.0</td>\n",
       "      <td>4.231789</td>\n",
       "      <td>Spécialistes</td>\n",
       "      <td>Provence-Alpes-Côte d'Azur</td>\n",
       "    </tr>\n",
       "  </tbody>\n",
       "</table>\n",
       "</div>"
      ],
      "text/plain": [
       "                              Spécialistes             DEPARTEMENT  EFFECTIFS  \\\n",
       "0  02- Anesthésie-réanimation chirurgicale                 01- Ain       18.0   \n",
       "1  02- Anesthésie-réanimation chirurgicale               02- Aisne       19.0   \n",
       "2  02- Anesthésie-réanimation chirurgicale              03- Allier       17.0   \n",
       "3  02- Anesthésie-réanimation chirurgicale  04- Alpes-Hte-Provence        4.0   \n",
       "4  02- Anesthésie-réanimation chirurgicale        05- Hautes-Alpes        6.0   \n",
       "\n",
       "   DEPASSEMENTS (Euros)  POPULATION FRANCAISE  DENSITE /100 000 hab.  \\\n",
       "0            2658795.49              653688.0               2.753607   \n",
       "1             456534.65              528016.0               3.598376   \n",
       "2             531455.38              333065.0               5.104109   \n",
       "3                   NaN              161980.0               2.469441   \n",
       "4                   NaN              141784.0               4.231789   \n",
       "\n",
       "     Specialité                       REGION  \n",
       "0  Spécialistes         Auvergne-Rhône-Alpes  \n",
       "1  Spécialistes  Nord-Pas-de-Calais-Picardie  \n",
       "2  Spécialistes         Auvergne-Rhône-Alpes  \n",
       "3  Spécialistes   Provence-Alpes-Côte d'Azur  \n",
       "4  Spécialistes   Provence-Alpes-Côte d'Azur  "
      ]
     },
     "execution_count": 30,
     "metadata": {},
     "output_type": "execute_result"
    }
   ],
   "source": [
    "tdf = data.merge(df4, how='left', on=['DEPARTEMENT'])\n",
    "tdf.head()"
   ]
  },
  {
   "cell_type": "markdown",
   "metadata": {},
   "source": [
    "## As the Data we used for region was from 2016 we update it"
   ]
  },
  {
   "cell_type": "code",
   "execution_count": 31,
   "metadata": {
    "ExecuteTime": {
     "end_time": "2020-12-30T16:10:18.988589Z",
     "start_time": "2020-12-30T16:10:18.977207Z"
    }
   },
   "outputs": [],
   "source": [
    "tdf['REGION'].replace('Languedoc-Roussillon-Midi-Pyrénées', 'Occitanie', inplace=True)\n",
    "tdf['REGION'].replace('Nord-Pas-de-Calais-Picardie', 'hauts-de-France', inplace=True)\n",
    "tdf['REGION'].replace('Alsace-Champagne-Ardenne-Lorraine', 'Grand Est', inplace=True)\n",
    "tdf['REGION'].replace('Aquitaine-Limousin-Poitou-Charentes', 'Nouvelle Aquitaine', inplace=True)"
   ]
  },
  {
   "cell_type": "markdown",
   "metadata": {},
   "source": [
    "# As the french health insurance display only the fees when effectives are higher than 11 we filter it to show only the > 11 effectives. "
   ]
  },
  {
   "cell_type": "code",
   "execution_count": 32,
   "metadata": {
    "ExecuteTime": {
     "end_time": "2020-12-30T16:10:20.866275Z",
     "start_time": "2020-12-30T16:10:20.858056Z"
    }
   },
   "outputs": [],
   "source": [
    "dno = tdf.loc[tdf[\"EFFECTIFS\"] > 11]"
   ]
  },
  {
   "cell_type": "code",
   "execution_count": 33,
   "metadata": {
    "ExecuteTime": {
     "end_time": "2020-12-30T16:10:21.259700Z",
     "start_time": "2020-12-30T16:10:21.253904Z"
    }
   },
   "outputs": [
    {
     "data": {
      "text/plain": [
       "(3226, 8)"
      ]
     },
     "execution_count": 33,
     "metadata": {},
     "output_type": "execute_result"
    }
   ],
   "source": [
    "dno.shape"
   ]
  },
  {
   "cell_type": "markdown",
   "metadata": {},
   "source": [
    "## Double check if there is some NaN Values for Fees exceeding fees"
   ]
  },
  {
   "cell_type": "code",
   "execution_count": 34,
   "metadata": {
    "ExecuteTime": {
     "end_time": "2020-12-30T16:10:24.182559Z",
     "start_time": "2020-12-30T16:10:24.177253Z"
    }
   },
   "outputs": [],
   "source": [
    "dno = dno[dno['DEPASSEMENTS (Euros)'].notna()]"
   ]
  },
  {
   "cell_type": "code",
   "execution_count": 35,
   "metadata": {
    "ExecuteTime": {
     "end_time": "2020-12-30T16:10:24.596675Z",
     "start_time": "2020-12-30T16:10:24.590129Z"
    }
   },
   "outputs": [
    {
     "data": {
      "text/plain": [
       "(3207, 8)"
      ]
     },
     "execution_count": 35,
     "metadata": {},
     "output_type": "execute_result"
    }
   ],
   "source": [
    "dno.shape"
   ]
  },
  {
   "cell_type": "markdown",
   "metadata": {},
   "source": [
    "# For analysis we need to delete all totals from department and Spécialistes "
   ]
  },
  {
   "cell_type": "code",
   "execution_count": 36,
   "metadata": {
    "ExecuteTime": {
     "end_time": "2020-12-30T16:10:39.628938Z",
     "start_time": "2020-12-30T16:10:39.618581Z"
    }
   },
   "outputs": [],
   "source": [
    "d = dno.loc[(dno[\"DEPARTEMENT\"] != 'TOTAL France ENTIERE') & (dno[\"DEPARTEMENT\"] != 'TOTAL OUTRE-MER') &\n",
    "             (dno[\"DEPARTEMENT\"] != 'TOTAL FRANCE METROPOLITAINE')]"
   ]
  },
  {
   "cell_type": "code",
   "execution_count": 37,
   "metadata": {
    "ExecuteTime": {
     "end_time": "2020-12-30T16:10:40.080634Z",
     "start_time": "2020-12-30T16:10:40.057201Z"
    },
    "scrolled": true
   },
   "outputs": [
    {
     "data": {
      "text/html": [
       "<div>\n",
       "<style scoped>\n",
       "    .dataframe tbody tr th:only-of-type {\n",
       "        vertical-align: middle;\n",
       "    }\n",
       "\n",
       "    .dataframe tbody tr th {\n",
       "        vertical-align: top;\n",
       "    }\n",
       "\n",
       "    .dataframe thead th {\n",
       "        text-align: right;\n",
       "    }\n",
       "</style>\n",
       "<table border=\"1\" class=\"dataframe\">\n",
       "  <thead>\n",
       "    <tr style=\"text-align: right;\">\n",
       "      <th></th>\n",
       "      <th>Spécialistes</th>\n",
       "      <th>DEPARTEMENT</th>\n",
       "      <th>EFFECTIFS</th>\n",
       "      <th>DEPASSEMENTS (Euros)</th>\n",
       "      <th>POPULATION FRANCAISE</th>\n",
       "      <th>DENSITE /100 000 hab.</th>\n",
       "      <th>Specialité</th>\n",
       "      <th>REGION</th>\n",
       "    </tr>\n",
       "  </thead>\n",
       "  <tbody>\n",
       "    <tr>\n",
       "      <th>0</th>\n",
       "      <td>02- Anesthésie-réanimation chirurgicale</td>\n",
       "      <td>01- Ain</td>\n",
       "      <td>18.0</td>\n",
       "      <td>2658795.49</td>\n",
       "      <td>653688.0</td>\n",
       "      <td>2.753607</td>\n",
       "      <td>Spécialistes</td>\n",
       "      <td>Auvergne-Rhône-Alpes</td>\n",
       "    </tr>\n",
       "    <tr>\n",
       "      <th>1</th>\n",
       "      <td>02- Anesthésie-réanimation chirurgicale</td>\n",
       "      <td>02- Aisne</td>\n",
       "      <td>19.0</td>\n",
       "      <td>456534.65</td>\n",
       "      <td>528016.0</td>\n",
       "      <td>3.598376</td>\n",
       "      <td>Spécialistes</td>\n",
       "      <td>hauts-de-France</td>\n",
       "    </tr>\n",
       "    <tr>\n",
       "      <th>2</th>\n",
       "      <td>02- Anesthésie-réanimation chirurgicale</td>\n",
       "      <td>03- Allier</td>\n",
       "      <td>17.0</td>\n",
       "      <td>531455.38</td>\n",
       "      <td>333065.0</td>\n",
       "      <td>5.104109</td>\n",
       "      <td>Spécialistes</td>\n",
       "      <td>Auvergne-Rhône-Alpes</td>\n",
       "    </tr>\n",
       "    <tr>\n",
       "      <th>5</th>\n",
       "      <td>02- Anesthésie-réanimation chirurgicale</td>\n",
       "      <td>06- Alpes-Maritimes</td>\n",
       "      <td>108.0</td>\n",
       "      <td>12043802.19</td>\n",
       "      <td>1080899.0</td>\n",
       "      <td>9.991683</td>\n",
       "      <td>Spécialistes</td>\n",
       "      <td>Provence-Alpes-Côte d'Azur</td>\n",
       "    </tr>\n",
       "    <tr>\n",
       "      <th>6</th>\n",
       "      <td>02- Anesthésie-réanimation chirurgicale</td>\n",
       "      <td>07- Ardèche</td>\n",
       "      <td>20.0</td>\n",
       "      <td>790173.76</td>\n",
       "      <td>327011.0</td>\n",
       "      <td>6.116002</td>\n",
       "      <td>Spécialistes</td>\n",
       "      <td>Auvergne-Rhône-Alpes</td>\n",
       "    </tr>\n",
       "  </tbody>\n",
       "</table>\n",
       "</div>"
      ],
      "text/plain": [
       "                              Spécialistes          DEPARTEMENT  EFFECTIFS  \\\n",
       "0  02- Anesthésie-réanimation chirurgicale              01- Ain       18.0   \n",
       "1  02- Anesthésie-réanimation chirurgicale            02- Aisne       19.0   \n",
       "2  02- Anesthésie-réanimation chirurgicale           03- Allier       17.0   \n",
       "5  02- Anesthésie-réanimation chirurgicale  06- Alpes-Maritimes      108.0   \n",
       "6  02- Anesthésie-réanimation chirurgicale          07- Ardèche       20.0   \n",
       "\n",
       "   DEPASSEMENTS (Euros)  POPULATION FRANCAISE  DENSITE /100 000 hab.  \\\n",
       "0            2658795.49              653688.0               2.753607   \n",
       "1             456534.65              528016.0               3.598376   \n",
       "2             531455.38              333065.0               5.104109   \n",
       "5           12043802.19             1080899.0               9.991683   \n",
       "6             790173.76              327011.0               6.116002   \n",
       "\n",
       "     Specialité                      REGION  \n",
       "0  Spécialistes        Auvergne-Rhône-Alpes  \n",
       "1  Spécialistes             hauts-de-France  \n",
       "2  Spécialistes        Auvergne-Rhône-Alpes  \n",
       "5  Spécialistes  Provence-Alpes-Côte d'Azur  \n",
       "6  Spécialistes        Auvergne-Rhône-Alpes  "
      ]
     },
     "execution_count": 37,
     "metadata": {},
     "output_type": "execute_result"
    }
   ],
   "source": [
    "d = d[~d['Spécialistes'].astype(str).str.startswith('TOTAL')]\n",
    "d.head()"
   ]
  },
  {
   "cell_type": "markdown",
   "metadata": {},
   "source": [
    "# *DRUM ROLL FINALLY SOME VISUALISATION!!!!!!"
   ]
  },
  {
   "cell_type": "markdown",
   "metadata": {},
   "source": [
    "# Overview of the relations between the density of physicians by specialty and by Region and the practice of exceeding fees"
   ]
  },
  {
   "cell_type": "code",
   "execution_count": 39,
   "metadata": {
    "ExecuteTime": {
     "end_time": "2020-12-30T16:12:03.229691Z",
     "start_time": "2020-12-30T16:12:03.221936Z"
    }
   },
   "outputs": [],
   "source": [
    "plot = d.sort_values(by='DEPASSEMENTS (Euros)', ascending=False)"
   ]
  },
  {
   "cell_type": "code",
   "execution_count": 40,
   "metadata": {
    "ExecuteTime": {
     "end_time": "2020-12-30T16:12:07.975775Z",
     "start_time": "2020-12-30T16:12:04.538997Z"
    },
    "scrolled": false
   },
   "outputs": [
    {
     "data": {
      "image/png": "[encoded data removed]",
      "text/plain": [
       "<Figure size 1112x324 with 1 Axes>"
      ]
     },
     "metadata": {
      "needs_background": "light"
     },
     "output_type": "display_data"
    }
   ],
   "source": [
    "ax1 = sns.catplot(data=plot, x = 'DEPASSEMENTS (Euros)', y='REGION',\n",
    "            hue='Specialité', height=4.5, aspect=3).set(title = 'Deppassements fees by Region and Specialité')"
   ]
  },
  {
   "cell_type": "markdown",
   "metadata": {},
   "source": [
    "> In each region we see a tendency that the top 2 specialité (Dentistes and Spécialistes) have higher exceeding fees than other specialities."
   ]
  },
  {
   "cell_type": "code",
   "execution_count": 41,
   "metadata": {
    "ExecuteTime": {
     "end_time": "2020-12-30T16:12:19.346551Z",
     "start_time": "2020-12-30T16:12:18.558621Z"
    },
    "scrolled": true
   },
   "outputs": [
    {
     "data": {
      "image/png": "[encoded data removed]",
      "text/plain": [
       "<Figure size 432x288 with 1 Axes>"
      ]
     },
     "metadata": {
      "needs_background": "light"
     },
     "output_type": "display_data"
    }
   ],
   "source": [
    "ax3 = sns.barplot(data=plot, x = 'DENSITE /100 000 hab.', y='REGION').set(title = 'Density by Region')"
   ]
  },
  {
   "cell_type": "markdown",
   "metadata": {},
   "source": [
    "> Interresting Relations\n",
    "- Ile-de-France is the region with the highest exceeding, but its density is the lowest. \n",
    "- Martinique and Guadeloupe have low exceeding fees but a high density."
   ]
  },
  {
   "cell_type": "markdown",
   "metadata": {},
   "source": [
    "# As we have an overview of geographic Data, let's find interesting cases for the different specialities"
   ]
  },
  {
   "cell_type": "markdown",
   "metadata": {},
   "source": [
    "**Visualisation of Different density by specialités**"
   ]
  },
  {
   "cell_type": "code",
   "execution_count": 42,
   "metadata": {
    "ExecuteTime": {
     "end_time": "2020-12-30T16:12:25.871247Z",
     "start_time": "2020-12-30T16:12:25.514997Z"
    },
    "scrolled": true
   },
   "outputs": [
    {
     "data": {
      "image/png": "[encoded data removed]",
      "text/plain": [
       "<Figure size 432x288 with 1 Axes>"
      ]
     },
     "metadata": {
      "needs_background": "light"
     },
     "output_type": "display_data"
    }
   ],
   "source": [
    "ax2 = sns.barplot(data=plot, x = 'DENSITE /100 000 hab.', y='Specialité').set(title = 'Density by Specialité')"
   ]
  },
  {
   "cell_type": "markdown",
   "metadata": {},
   "source": [
    "**Specialité Ranked by DEPASSEMENTS (Euros)**"
   ]
  },
  {
   "cell_type": "code",
   "execution_count": 43,
   "metadata": {
    "ExecuteTime": {
     "end_time": "2020-12-30T16:12:27.805279Z",
     "start_time": "2020-12-30T16:12:27.784305Z"
    },
    "scrolled": false
   },
   "outputs": [
    {
     "data": {
      "text/html": [
       "<div>\n",
       "<style scoped>\n",
       "    .dataframe tbody tr th:only-of-type {\n",
       "        vertical-align: middle;\n",
       "    }\n",
       "\n",
       "    .dataframe tbody tr th {\n",
       "        vertical-align: top;\n",
       "    }\n",
       "\n",
       "    .dataframe thead th {\n",
       "        text-align: right;\n",
       "    }\n",
       "</style>\n",
       "<table border=\"1\" class=\"dataframe\">\n",
       "  <thead>\n",
       "    <tr style=\"text-align: right;\">\n",
       "      <th></th>\n",
       "      <th>EFFECTIFS</th>\n",
       "      <th>DEPASSEMENTS (Euros)</th>\n",
       "      <th>POPULATION FRANCAISE</th>\n",
       "      <th>DENSITE /100 000 hab.</th>\n",
       "    </tr>\n",
       "    <tr>\n",
       "      <th>Specialité</th>\n",
       "      <th></th>\n",
       "      <th></th>\n",
       "      <th></th>\n",
       "      <th></th>\n",
       "    </tr>\n",
       "  </thead>\n",
       "  <tbody>\n",
       "    <tr>\n",
       "      <th>Dentistes et ODF</th>\n",
       "      <td>349.120000</td>\n",
       "      <td>4.194006e+07</td>\n",
       "      <td>6.672233e+05</td>\n",
       "      <td>48.745788</td>\n",
       "    </tr>\n",
       "    <tr>\n",
       "      <th>Spécialistes</th>\n",
       "      <td>40.452621</td>\n",
       "      <td>2.448603e+06</td>\n",
       "      <td>1.038449e+06</td>\n",
       "      <td>4.179538</td>\n",
       "    </tr>\n",
       "    <tr>\n",
       "      <th>Généralistes et MEP</th>\n",
       "      <td>308.760925</td>\n",
       "      <td>1.265176e+06</td>\n",
       "      <td>8.369204e+05</td>\n",
       "      <td>45.146767</td>\n",
       "    </tr>\n",
       "    <tr>\n",
       "      <th>Auxiliaires médicaux</th>\n",
       "      <td>424.311547</td>\n",
       "      <td>2.286952e+05</td>\n",
       "      <td>7.015549e+05</td>\n",
       "      <td>64.076763</td>\n",
       "    </tr>\n",
       "    <tr>\n",
       "      <th>Sages-femmes</th>\n",
       "      <td>64.365591</td>\n",
       "      <td>4.966296e+04</td>\n",
       "      <td>7.052445e+05</td>\n",
       "      <td>8.909656</td>\n",
       "    </tr>\n",
       "  </tbody>\n",
       "</table>\n",
       "</div>"
      ],
      "text/plain": [
       "                       EFFECTIFS  DEPASSEMENTS (Euros)  POPULATION FRANCAISE  \\\n",
       "Specialité                                                                     \n",
       "Dentistes et ODF      349.120000          4.194006e+07          6.672233e+05   \n",
       "Spécialistes           40.452621          2.448603e+06          1.038449e+06   \n",
       "Généralistes et MEP   308.760925          1.265176e+06          8.369204e+05   \n",
       "Auxiliaires médicaux  424.311547          2.286952e+05          7.015549e+05   \n",
       "Sages-femmes           64.365591          4.966296e+04          7.052445e+05   \n",
       "\n",
       "                      DENSITE /100 000 hab.  \n",
       "Specialité                                   \n",
       "Dentistes et ODF                  48.745788  \n",
       "Spécialistes                       4.179538  \n",
       "Généralistes et MEP               45.146767  \n",
       "Auxiliaires médicaux              64.076763  \n",
       "Sages-femmes                       8.909656  "
      ]
     },
     "execution_count": 43,
     "metadata": {},
     "output_type": "execute_result"
    }
   ],
   "source": [
    "S = plot.groupby('Specialité')\n",
    "S.mean().sort_values(\"DEPASSEMENTS (Euros)\", ascending=False)"
   ]
  },
  {
   "cell_type": "markdown",
   "metadata": {},
   "source": [
    "**Specialité Ranked by DENSITE /100 000 hab.**"
   ]
  },
  {
   "cell_type": "code",
   "execution_count": 44,
   "metadata": {
    "ExecuteTime": {
     "end_time": "2020-12-30T16:12:30.438963Z",
     "start_time": "2020-12-30T16:12:30.421073Z"
    },
    "scrolled": true
   },
   "outputs": [
    {
     "data": {
      "text/html": [
       "<div>\n",
       "<style scoped>\n",
       "    .dataframe tbody tr th:only-of-type {\n",
       "        vertical-align: middle;\n",
       "    }\n",
       "\n",
       "    .dataframe tbody tr th {\n",
       "        vertical-align: top;\n",
       "    }\n",
       "\n",
       "    .dataframe thead th {\n",
       "        text-align: right;\n",
       "    }\n",
       "</style>\n",
       "<table border=\"1\" class=\"dataframe\">\n",
       "  <thead>\n",
       "    <tr style=\"text-align: right;\">\n",
       "      <th></th>\n",
       "      <th>EFFECTIFS</th>\n",
       "      <th>DEPASSEMENTS (Euros)</th>\n",
       "      <th>POPULATION FRANCAISE</th>\n",
       "      <th>DENSITE /100 000 hab.</th>\n",
       "    </tr>\n",
       "    <tr>\n",
       "      <th>Specialité</th>\n",
       "      <th></th>\n",
       "      <th></th>\n",
       "      <th></th>\n",
       "      <th></th>\n",
       "    </tr>\n",
       "  </thead>\n",
       "  <tbody>\n",
       "    <tr>\n",
       "      <th>Auxiliaires médicaux</th>\n",
       "      <td>424.311547</td>\n",
       "      <td>2.286952e+05</td>\n",
       "      <td>7.015549e+05</td>\n",
       "      <td>64.076763</td>\n",
       "    </tr>\n",
       "    <tr>\n",
       "      <th>Dentistes et ODF</th>\n",
       "      <td>349.120000</td>\n",
       "      <td>4.194006e+07</td>\n",
       "      <td>6.672233e+05</td>\n",
       "      <td>48.745788</td>\n",
       "    </tr>\n",
       "    <tr>\n",
       "      <th>Généralistes et MEP</th>\n",
       "      <td>308.760925</td>\n",
       "      <td>1.265176e+06</td>\n",
       "      <td>8.369204e+05</td>\n",
       "      <td>45.146767</td>\n",
       "    </tr>\n",
       "    <tr>\n",
       "      <th>Sages-femmes</th>\n",
       "      <td>64.365591</td>\n",
       "      <td>4.966296e+04</td>\n",
       "      <td>7.052445e+05</td>\n",
       "      <td>8.909656</td>\n",
       "    </tr>\n",
       "    <tr>\n",
       "      <th>Spécialistes</th>\n",
       "      <td>40.452621</td>\n",
       "      <td>2.448603e+06</td>\n",
       "      <td>1.038449e+06</td>\n",
       "      <td>4.179538</td>\n",
       "    </tr>\n",
       "  </tbody>\n",
       "</table>\n",
       "</div>"
      ],
      "text/plain": [
       "                       EFFECTIFS  DEPASSEMENTS (Euros)  POPULATION FRANCAISE  \\\n",
       "Specialité                                                                     \n",
       "Auxiliaires médicaux  424.311547          2.286952e+05          7.015549e+05   \n",
       "Dentistes et ODF      349.120000          4.194006e+07          6.672233e+05   \n",
       "Généralistes et MEP   308.760925          1.265176e+06          8.369204e+05   \n",
       "Sages-femmes           64.365591          4.966296e+04          7.052445e+05   \n",
       "Spécialistes           40.452621          2.448603e+06          1.038449e+06   \n",
       "\n",
       "                      DENSITE /100 000 hab.  \n",
       "Specialité                                   \n",
       "Auxiliaires médicaux              64.076763  \n",
       "Dentistes et ODF                  48.745788  \n",
       "Généralistes et MEP               45.146767  \n",
       "Sages-femmes                       8.909656  \n",
       "Spécialistes                       4.179538  "
      ]
     },
     "execution_count": 44,
     "metadata": {},
     "output_type": "execute_result"
    }
   ],
   "source": [
    "SD = plot.groupby('Specialité')\n",
    "SD.mean().sort_values(\"DENSITE /100 000 hab.\", ascending=False)"
   ]
  },
  {
   "cell_type": "markdown",
   "metadata": {},
   "source": [
    ">\n",
    "- The dentistes have the highest exceeding fees with a high density.\n",
    "- We notice Spécialistes have high exceeding fees whereas their density is the lowest.\n",
    "- Auxiliaires médicaux have the highest density but with lower exceding fees."
   ]
  },
  {
   "cell_type": "markdown",
   "metadata": {},
   "source": [
    "# Correlation Analysis"
   ]
  },
  {
   "cell_type": "markdown",
   "metadata": {},
   "source": [
    "## First, we analyse the correlation between Exceeding fees and Density for the Dentists"
   ]
  },
  {
   "cell_type": "code",
   "execution_count": 190,
   "metadata": {},
   "outputs": [],
   "source": [
    "fradent = plot.loc[(plot['Specialité'] == 'Dentistes et ODF')]"
   ]
  },
  {
   "cell_type": "code",
   "execution_count": 246,
   "metadata": {},
   "outputs": [
    {
     "data": {
      "text/plain": [
       "<AxesSubplot:title={'center':'Relation Between Exceeding fees and Density For Dentists'}, xlabel='DEPASSEMENTS (Euros)', ylabel='DENSITE /100 000 hab.'>"
      ]
     },
     "execution_count": 246,
     "metadata": {},
     "output_type": "execute_result"
    },
    {
     "data": {
      "image/png": "[encoded data removed]",
      "text/plain": [
       "<Figure size 864x576 with 1 Axes>"
      ]
     },
     "metadata": {
      "needs_background": "light"
     },
     "output_type": "display_data"
    }
   ],
   "source": [
    "plt.figure(figsize=(12,8))\n",
    "plt.title('Relation Between Exceeding fees and Density For Dentists')\n",
    "sns.scatterplot(data = fradent, x = 'DEPASSEMENTS (Euros)', y='DENSITE /100 000 hab.', hue='REGION', s=100)"
   ]
  },
  {
   "cell_type": "markdown",
   "metadata": {},
   "source": [
    "- According to the visualisation we find a weak positive correlation in general. However, in specific regions we find more strong correlation."
   ]
  },
  {
   "cell_type": "code",
   "execution_count": 192,
   "metadata": {
    "scrolled": true
   },
   "outputs": [
    {
     "data": {
      "text/html": [
       "<div>\n",
       "<style scoped>\n",
       "    .dataframe tbody tr th:only-of-type {\n",
       "        vertical-align: middle;\n",
       "    }\n",
       "\n",
       "    .dataframe tbody tr th {\n",
       "        vertical-align: top;\n",
       "    }\n",
       "\n",
       "    .dataframe thead th {\n",
       "        text-align: right;\n",
       "    }\n",
       "</style>\n",
       "<table border=\"1\" class=\"dataframe\">\n",
       "  <thead>\n",
       "    <tr style=\"text-align: right;\">\n",
       "      <th></th>\n",
       "      <th>EFFECTIFS</th>\n",
       "      <th>DEPASSEMENTS (Euros)</th>\n",
       "      <th>DENSITE /100 000 hab.</th>\n",
       "    </tr>\n",
       "  </thead>\n",
       "  <tbody>\n",
       "    <tr>\n",
       "      <th>EFFECTIFS</th>\n",
       "      <td>1.000000</td>\n",
       "      <td>0.967202</td>\n",
       "      <td>0.636391</td>\n",
       "    </tr>\n",
       "    <tr>\n",
       "      <th>DEPASSEMENTS (Euros)</th>\n",
       "      <td>0.967202</td>\n",
       "      <td>1.000000</td>\n",
       "      <td>0.550778</td>\n",
       "    </tr>\n",
       "    <tr>\n",
       "      <th>DENSITE /100 000 hab.</th>\n",
       "      <td>0.636391</td>\n",
       "      <td>0.550778</td>\n",
       "      <td>1.000000</td>\n",
       "    </tr>\n",
       "  </tbody>\n",
       "</table>\n",
       "</div>"
      ],
      "text/plain": [
       "                       EFFECTIFS  DEPASSEMENTS (Euros)  DENSITE /100 000 hab.\n",
       "EFFECTIFS               1.000000              0.967202               0.636391\n",
       "DEPASSEMENTS (Euros)    0.967202              1.000000               0.550778\n",
       "DENSITE /100 000 hab.   0.636391              0.550778               1.000000"
      ]
     },
     "execution_count": 192,
     "metadata": {},
     "output_type": "execute_result"
    }
   ],
   "source": [
    "fradent.corr()"
   ]
  },
  {
   "cell_type": "markdown",
   "metadata": {},
   "source": [
    "- The correlation table confirm that there is moderate positive correlation (0.550778) between Density and Depassements for Dentists in France."
   ]
  },
  {
   "cell_type": "markdown",
   "metadata": {},
   "source": [
    "## Then, we analyse the correlation between Exceeding fees and Density for the Spécialistes"
   ]
  },
  {
   "cell_type": "code",
   "execution_count": 247,
   "metadata": {},
   "outputs": [],
   "source": [
    "fraspe = plot.loc[(plot['Specialité'] == 'Spécialistes')]"
   ]
  },
  {
   "cell_type": "code",
   "execution_count": 249,
   "metadata": {},
   "outputs": [
    {
     "data": {
      "text/plain": [
       "<AxesSubplot:title={'center':'Relation Between Exceeding fees and Density for Spécialistes'}, xlabel='DEPASSEMENTS (Euros)', ylabel='DENSITE /100 000 hab.'>"
      ]
     },
     "execution_count": 249,
     "metadata": {},
     "output_type": "execute_result"
    },
    {
     "data": {
      "image/png": "[encoded data removed]",
      "text/plain": [
       "<Figure size 864x576 with 1 Axes>"
      ]
     },
     "metadata": {
      "needs_background": "light"
     },
     "output_type": "display_data"
    }
   ],
   "source": [
    "plt.figure(figsize=(12,8))\n",
    "plt.title('Relation Between Exceeding fees and Density for Spécialistes')\n",
    "sns.scatterplot(data = fraspe, x = 'DEPASSEMENTS (Euros)', y='DENSITE /100 000 hab.', hue='REGION', s=100)"
   ]
  },
  {
   "cell_type": "markdown",
   "metadata": {},
   "source": [
    "- According to the visualisation we find no correlation in general."
   ]
  },
  {
   "cell_type": "code",
   "execution_count": 213,
   "metadata": {},
   "outputs": [
    {
     "data": {
      "text/html": [
       "<div>\n",
       "<style scoped>\n",
       "    .dataframe tbody tr th:only-of-type {\n",
       "        vertical-align: middle;\n",
       "    }\n",
       "\n",
       "    .dataframe tbody tr th {\n",
       "        vertical-align: top;\n",
       "    }\n",
       "\n",
       "    .dataframe thead th {\n",
       "        text-align: right;\n",
       "    }\n",
       "</style>\n",
       "<table border=\"1\" class=\"dataframe\">\n",
       "  <thead>\n",
       "    <tr style=\"text-align: right;\">\n",
       "      <th></th>\n",
       "      <th>EFFECTIFS</th>\n",
       "      <th>DEPASSEMENTS (Euros)</th>\n",
       "      <th>DENSITE /100 000 hab.</th>\n",
       "    </tr>\n",
       "  </thead>\n",
       "  <tbody>\n",
       "    <tr>\n",
       "      <th>EFFECTIFS</th>\n",
       "      <td>1.000000</td>\n",
       "      <td>0.718442</td>\n",
       "      <td>0.691946</td>\n",
       "    </tr>\n",
       "    <tr>\n",
       "      <th>DEPASSEMENTS (Euros)</th>\n",
       "      <td>0.718442</td>\n",
       "      <td>1.000000</td>\n",
       "      <td>0.428118</td>\n",
       "    </tr>\n",
       "    <tr>\n",
       "      <th>DENSITE /100 000 hab.</th>\n",
       "      <td>0.691946</td>\n",
       "      <td>0.428118</td>\n",
       "      <td>1.000000</td>\n",
       "    </tr>\n",
       "  </tbody>\n",
       "</table>\n",
       "</div>"
      ],
      "text/plain": [
       "                       EFFECTIFS  DEPASSEMENTS (Euros)  DENSITE /100 000 hab.\n",
       "EFFECTIFS               1.000000              0.718442               0.691946\n",
       "DEPASSEMENTS (Euros)    0.718442              1.000000               0.428118\n",
       "DENSITE /100 000 hab.   0.691946              0.428118               1.000000"
      ]
     },
     "execution_count": 213,
     "metadata": {},
     "output_type": "execute_result"
    }
   ],
   "source": [
    "fraspe.corr()"
   ]
  },
  {
   "cell_type": "markdown",
   "metadata": {},
   "source": [
    "- The correlation table show that there is a weak correlation (0.428118) between Density and Depassements for Spécialistes in France."
   ]
  },
  {
   "cell_type": "markdown",
   "metadata": {},
   "source": [
    "## Lastly, we analyse the correlation between Exceeding fees and Density for the Auxiliaires médicaux"
   ]
  },
  {
   "cell_type": "code",
   "execution_count": 251,
   "metadata": {},
   "outputs": [],
   "source": [
    "fraaux = plot.loc[(plot['Specialité'] == 'Auxiliaires médicaux')]"
   ]
  },
  {
   "cell_type": "code",
   "execution_count": 252,
   "metadata": {},
   "outputs": [
    {
     "data": {
      "text/plain": [
       "<AxesSubplot:title={'center':'Relation Between Exceeding fees and Density for Auxiliaires médicaux'}, xlabel='DEPASSEMENTS (Euros)', ylabel='DENSITE /100 000 hab.'>"
      ]
     },
     "execution_count": 252,
     "metadata": {},
     "output_type": "execute_result"
    },
    {
     "data": {
      "image/png": "[encoded data removed]",
      "text/plain": [
       "<Figure size 864x576 with 1 Axes>"
      ]
     },
     "metadata": {
      "needs_background": "light"
     },
     "output_type": "display_data"
    }
   ],
   "source": [
    "plt.figure(figsize=(12,8))\n",
    "plt.title('Relation Between Exceeding fees and Density for Auxiliaires médicaux')\n",
    "sns.scatterplot(data = fraaux, x = 'DEPASSEMENTS (Euros)', y='DENSITE /100 000 hab.', hue='REGION', s=100)"
   ]
  },
  {
   "cell_type": "markdown",
   "metadata": {},
   "source": [
    "- According to the visualisation we dont find any correlation."
   ]
  },
  {
   "cell_type": "code",
   "execution_count": 221,
   "metadata": {},
   "outputs": [
    {
     "data": {
      "text/html": [
       "<div>\n",
       "<style scoped>\n",
       "    .dataframe tbody tr th:only-of-type {\n",
       "        vertical-align: middle;\n",
       "    }\n",
       "\n",
       "    .dataframe tbody tr th {\n",
       "        vertical-align: top;\n",
       "    }\n",
       "\n",
       "    .dataframe thead th {\n",
       "        text-align: right;\n",
       "    }\n",
       "</style>\n",
       "<table border=\"1\" class=\"dataframe\">\n",
       "  <thead>\n",
       "    <tr style=\"text-align: right;\">\n",
       "      <th></th>\n",
       "      <th>EFFECTIFS</th>\n",
       "      <th>DEPASSEMENTS (Euros)</th>\n",
       "      <th>DENSITE /100 000 hab.</th>\n",
       "    </tr>\n",
       "  </thead>\n",
       "  <tbody>\n",
       "    <tr>\n",
       "      <th>EFFECTIFS</th>\n",
       "      <td>1.000000</td>\n",
       "      <td>0.231542</td>\n",
       "      <td>0.636588</td>\n",
       "    </tr>\n",
       "    <tr>\n",
       "      <th>DEPASSEMENTS (Euros)</th>\n",
       "      <td>0.231542</td>\n",
       "      <td>1.000000</td>\n",
       "      <td>0.062006</td>\n",
       "    </tr>\n",
       "    <tr>\n",
       "      <th>DENSITE /100 000 hab.</th>\n",
       "      <td>0.636588</td>\n",
       "      <td>0.062006</td>\n",
       "      <td>1.000000</td>\n",
       "    </tr>\n",
       "  </tbody>\n",
       "</table>\n",
       "</div>"
      ],
      "text/plain": [
       "                       EFFECTIFS  DEPASSEMENTS (Euros)  DENSITE /100 000 hab.\n",
       "EFFECTIFS               1.000000              0.231542               0.636588\n",
       "DEPASSEMENTS (Euros)    0.231542              1.000000               0.062006\n",
       "DENSITE /100 000 hab.   0.636588              0.062006               1.000000"
      ]
     },
     "execution_count": 221,
     "metadata": {},
     "output_type": "execute_result"
    }
   ],
   "source": [
    "fraaux.corr()"
   ]
  },
  {
   "cell_type": "markdown",
   "metadata": {},
   "source": [
    "- The correlation table confirm that there is not any correlation (0.062006) between Density and Depassements for Auxiliaires médicaux in France."
   ]
  },
  {
   "cell_type": "markdown",
   "metadata": {},
   "source": [
    "# Data Exploration (Sprecific cases)"
   ]
  },
  {
   "cell_type": "markdown",
   "metadata": {},
   "source": [
    "### Ile-de-France"
   ]
  },
  {
   "cell_type": "markdown",
   "metadata": {},
   "source": [
    "**As Ile de France as the highest depassement and a low density we do a deeper analysis for this region**"
   ]
  },
  {
   "cell_type": "markdown",
   "metadata": {},
   "source": [
    "### First, we analyse the correlation between Exceeding fees and Density for the Dentists"
   ]
  },
  {
   "cell_type": "code",
   "execution_count": 160,
   "metadata": {
    "ExecuteTime": {
     "end_time": "2020-12-15T18:27:56.551317Z",
     "start_time": "2020-12-15T18:27:56.545665Z"
    }
   },
   "outputs": [],
   "source": [
    "idf1 = plot.loc[(plot['REGION'] == 'Ile-de-France')& ((plot['Specialité'] == 'Dentistes et ODF'))]"
   ]
  },
  {
   "cell_type": "code",
   "execution_count": 258,
   "metadata": {
    "ExecuteTime": {
     "end_time": "2020-12-15T18:27:57.291228Z",
     "start_time": "2020-12-15T18:27:56.942568Z"
    },
    "scrolled": true
   },
   "outputs": [
    {
     "data": {
      "text/plain": [
       "<AxesSubplot:title={'center':'Relation Between Exceeding fees and Density for Dentists in Ile de France'}, xlabel='DEPASSEMENTS (Euros)', ylabel='DENSITE /100 000 hab.'>"
      ]
     },
     "execution_count": 258,
     "metadata": {},
     "output_type": "execute_result"
    },
    {
     "data": {
      "image/png": "[encoded data removed]",
      "text/plain": [
       "<Figure size 864x576 with 1 Axes>"
      ]
     },
     "metadata": {
      "needs_background": "light"
     },
     "output_type": "display_data"
    }
   ],
   "source": [
    "plt.figure(figsize=(12,8))\n",
    "plt.title('Relation Between Exceeding fees and Density for Dentists in Ile de France')\n",
    "sns.scatterplot(data = idf1, x = 'DEPASSEMENTS (Euros)', y='DENSITE /100 000 hab.')"
   ]
  },
  {
   "cell_type": "markdown",
   "metadata": {
    "ExecuteTime": {
     "end_time": "2020-12-15T18:24:46.454570Z",
     "start_time": "2020-12-15T18:24:46.447232Z"
    }
   },
   "source": [
    "- According to the visualisation we see a strong positive correlation."
   ]
  },
  {
   "cell_type": "code",
   "execution_count": 162,
   "metadata": {
    "ExecuteTime": {
     "end_time": "2020-12-15T18:32:01.660588Z",
     "start_time": "2020-12-15T18:32:01.644928Z"
    }
   },
   "outputs": [
    {
     "data": {
      "text/html": [
       "<div>\n",
       "<style scoped>\n",
       "    .dataframe tbody tr th:only-of-type {\n",
       "        vertical-align: middle;\n",
       "    }\n",
       "\n",
       "    .dataframe tbody tr th {\n",
       "        vertical-align: top;\n",
       "    }\n",
       "\n",
       "    .dataframe thead th {\n",
       "        text-align: right;\n",
       "    }\n",
       "</style>\n",
       "<table border=\"1\" class=\"dataframe\">\n",
       "  <thead>\n",
       "    <tr style=\"text-align: right;\">\n",
       "      <th></th>\n",
       "      <th>EFFECTIFS</th>\n",
       "      <th>DEPASSEMENTS (Euros)</th>\n",
       "      <th>DENSITE /100 000 hab.</th>\n",
       "    </tr>\n",
       "  </thead>\n",
       "  <tbody>\n",
       "    <tr>\n",
       "      <th>EFFECTIFS</th>\n",
       "      <td>1.000000</td>\n",
       "      <td>0.994619</td>\n",
       "      <td>0.980385</td>\n",
       "    </tr>\n",
       "    <tr>\n",
       "      <th>DEPASSEMENTS (Euros)</th>\n",
       "      <td>0.994619</td>\n",
       "      <td>1.000000</td>\n",
       "      <td>0.984331</td>\n",
       "    </tr>\n",
       "    <tr>\n",
       "      <th>DENSITE /100 000 hab.</th>\n",
       "      <td>0.980385</td>\n",
       "      <td>0.984331</td>\n",
       "      <td>1.000000</td>\n",
       "    </tr>\n",
       "  </tbody>\n",
       "</table>\n",
       "</div>"
      ],
      "text/plain": [
       "                       EFFECTIFS  DEPASSEMENTS (Euros)  DENSITE /100 000 hab.\n",
       "EFFECTIFS               1.000000              0.994619               0.980385\n",
       "DEPASSEMENTS (Euros)    0.994619              1.000000               0.984331\n",
       "DENSITE /100 000 hab.   0.980385              0.984331               1.000000"
      ]
     },
     "execution_count": 162,
     "metadata": {},
     "output_type": "execute_result"
    }
   ],
   "source": [
    "idf1.corr()"
   ]
  },
  {
   "cell_type": "markdown",
   "metadata": {},
   "source": [
    "- Indeed, there is a strong positive correlation between Density and Depassmement in the field of Dentistes et ODF. (**corr coefficient = 0.98**)"
   ]
  },
  {
   "cell_type": "markdown",
   "metadata": {},
   "source": [
    "## Then, we analyse the correlation between Exceeding fees and Density for the Spécialistes"
   ]
  },
  {
   "cell_type": "code",
   "execution_count": 163,
   "metadata": {
    "ExecuteTime": {
     "end_time": "2020-12-15T18:29:25.595683Z",
     "start_time": "2020-12-15T18:29:25.588013Z"
    }
   },
   "outputs": [],
   "source": [
    "idf2 = plot.loc[(plot['REGION'] == 'Ile-de-France')& ((plot['Specialité'] == 'Spécialistes'))]"
   ]
  },
  {
   "cell_type": "code",
   "execution_count": 257,
   "metadata": {
    "ExecuteTime": {
     "end_time": "2020-12-15T18:34:52.724434Z",
     "start_time": "2020-12-15T18:34:52.307897Z"
    }
   },
   "outputs": [
    {
     "data": {
      "text/plain": [
       "[Text(0.5, 1.0, 'Relation Between Exceeding fees and Density for spécialistes')]"
      ]
     },
     "execution_count": 257,
     "metadata": {},
     "output_type": "execute_result"
    },
    {
     "data": {
      "image/png": "[encoded data removed]",
      "text/plain": [
       "<Figure size 864x576 with 1 Axes>"
      ]
     },
     "metadata": {
      "needs_background": "light"
     },
     "output_type": "display_data"
    }
   ],
   "source": [
    "plt.figure(figsize=(12,8))\n",
    "sns.scatterplot(data = idf2, x = 'DEPASSEMENTS (Euros)', y='DENSITE /100 000 hab.').set(title = 'Relation Between Exceeding fees and Density for spécialistes')"
   ]
  },
  {
   "cell_type": "markdown",
   "metadata": {},
   "source": [
    "- According to the visualisation we find a positive correlation in general. However there is a lot of outliers."
   ]
  },
  {
   "cell_type": "code",
   "execution_count": 165,
   "metadata": {
    "ExecuteTime": {
     "end_time": "2020-12-15T18:31:31.152712Z",
     "start_time": "2020-12-15T18:31:31.138925Z"
    },
    "scrolled": false
   },
   "outputs": [
    {
     "data": {
      "text/html": [
       "<div>\n",
       "<style scoped>\n",
       "    .dataframe tbody tr th:only-of-type {\n",
       "        vertical-align: middle;\n",
       "    }\n",
       "\n",
       "    .dataframe tbody tr th {\n",
       "        vertical-align: top;\n",
       "    }\n",
       "\n",
       "    .dataframe thead th {\n",
       "        text-align: right;\n",
       "    }\n",
       "</style>\n",
       "<table border=\"1\" class=\"dataframe\">\n",
       "  <thead>\n",
       "    <tr style=\"text-align: right;\">\n",
       "      <th></th>\n",
       "      <th>EFFECTIFS</th>\n",
       "      <th>DEPASSEMENTS (Euros)</th>\n",
       "      <th>DENSITE /100 000 hab.</th>\n",
       "    </tr>\n",
       "  </thead>\n",
       "  <tbody>\n",
       "    <tr>\n",
       "      <th>EFFECTIFS</th>\n",
       "      <td>1.000000</td>\n",
       "      <td>0.869497</td>\n",
       "      <td>0.971354</td>\n",
       "    </tr>\n",
       "    <tr>\n",
       "      <th>DEPASSEMENTS (Euros)</th>\n",
       "      <td>0.869497</td>\n",
       "      <td>1.000000</td>\n",
       "      <td>0.814664</td>\n",
       "    </tr>\n",
       "    <tr>\n",
       "      <th>DENSITE /100 000 hab.</th>\n",
       "      <td>0.971354</td>\n",
       "      <td>0.814664</td>\n",
       "      <td>1.000000</td>\n",
       "    </tr>\n",
       "  </tbody>\n",
       "</table>\n",
       "</div>"
      ],
      "text/plain": [
       "                       EFFECTIFS  DEPASSEMENTS (Euros)  DENSITE /100 000 hab.\n",
       "EFFECTIFS               1.000000              0.869497               0.971354\n",
       "DEPASSEMENTS (Euros)    0.869497              1.000000               0.814664\n",
       "DENSITE /100 000 hab.   0.971354              0.814664               1.000000"
      ]
     },
     "execution_count": 165,
     "metadata": {},
     "output_type": "execute_result"
    }
   ],
   "source": [
    "idf2.corr()"
   ]
  },
  {
   "cell_type": "markdown",
   "metadata": {},
   "source": [
    "> \n",
    "- Indeed, In Ile-de-France we have a strong positive correlation between Density and Depassmement in the field of Spécialistes. (**corr coefficient = 0.81**)"
   ]
  },
  {
   "cell_type": "markdown",
   "metadata": {},
   "source": [
    "### Lastly, we analyse the correlation between Exceeding fees and Density for the Auxiliaires médicaux"
   ]
  },
  {
   "cell_type": "code",
   "execution_count": 166,
   "metadata": {},
   "outputs": [],
   "source": [
    "idf3 = plot.loc[(plot['REGION'] == 'Ile-de-France')& ((plot['Specialité'] == 'Auxiliaires médicaux'))]"
   ]
  },
  {
   "cell_type": "code",
   "execution_count": 256,
   "metadata": {
    "scrolled": true
   },
   "outputs": [
    {
     "data": {
      "text/plain": [
       "[Text(0.5, 1.0, 'Relation Between Exceeding fees and Density for Auxiliaires médicaux')]"
      ]
     },
     "execution_count": 256,
     "metadata": {},
     "output_type": "execute_result"
    },
    {
     "data": {
      "image/png": "[encoded data removed]",
      "text/plain": [
       "<Figure size 864x576 with 1 Axes>"
      ]
     },
     "metadata": {
      "needs_background": "light"
     },
     "output_type": "display_data"
    }
   ],
   "source": [
    "plt.figure(figsize=(12,8))\n",
    "sns.scatterplot(data = idf3, x = 'DEPASSEMENTS (Euros)', y='DENSITE /100 000 hab.').set(title = 'Relation Between Exceeding fees and Density for Auxiliaires médicaux')"
   ]
  },
  {
   "cell_type": "markdown",
   "metadata": {},
   "source": [
    "- Knowing that there is almost no depassement in the field of Auxiliaires médicaux, there is no possible correlation "
   ]
  },
  {
   "cell_type": "code",
   "execution_count": 169,
   "metadata": {},
   "outputs": [
    {
     "data": {
      "text/html": [
       "<div>\n",
       "<style scoped>\n",
       "    .dataframe tbody tr th:only-of-type {\n",
       "        vertical-align: middle;\n",
       "    }\n",
       "\n",
       "    .dataframe tbody tr th {\n",
       "        vertical-align: top;\n",
       "    }\n",
       "\n",
       "    .dataframe thead th {\n",
       "        text-align: right;\n",
       "    }\n",
       "</style>\n",
       "<table border=\"1\" class=\"dataframe\">\n",
       "  <thead>\n",
       "    <tr style=\"text-align: right;\">\n",
       "      <th></th>\n",
       "      <th>EFFECTIFS</th>\n",
       "      <th>DEPASSEMENTS (Euros)</th>\n",
       "      <th>DENSITE /100 000 hab.</th>\n",
       "    </tr>\n",
       "  </thead>\n",
       "  <tbody>\n",
       "    <tr>\n",
       "      <th>EFFECTIFS</th>\n",
       "      <td>1.000000</td>\n",
       "      <td>0.788944</td>\n",
       "      <td>0.958718</td>\n",
       "    </tr>\n",
       "    <tr>\n",
       "      <th>DEPASSEMENTS (Euros)</th>\n",
       "      <td>0.788944</td>\n",
       "      <td>1.000000</td>\n",
       "      <td>0.660073</td>\n",
       "    </tr>\n",
       "    <tr>\n",
       "      <th>DENSITE /100 000 hab.</th>\n",
       "      <td>0.958718</td>\n",
       "      <td>0.660073</td>\n",
       "      <td>1.000000</td>\n",
       "    </tr>\n",
       "  </tbody>\n",
       "</table>\n",
       "</div>"
      ],
      "text/plain": [
       "                       EFFECTIFS  DEPASSEMENTS (Euros)  DENSITE /100 000 hab.\n",
       "EFFECTIFS               1.000000              0.788944               0.958718\n",
       "DEPASSEMENTS (Euros)    0.788944              1.000000               0.660073\n",
       "DENSITE /100 000 hab.   0.958718              0.660073               1.000000"
      ]
     },
     "execution_count": 169,
     "metadata": {},
     "output_type": "execute_result"
    }
   ],
   "source": [
    "idf3.corr()"
   ]
  },
  {
   "cell_type": "markdown",
   "metadata": {},
   "source": [
    "- It seems like outliers decrease the correlation table's reliability. "
   ]
  },
  {
   "cell_type": "markdown",
   "metadata": {},
   "source": [
    "## Since Martinique and Guadeloupe have intersting characteristics (high density and Low Depassement --> Opposite of Ile de France), we do correlation analysis between Exceeding Fees and Density."
   ]
  },
  {
   "cell_type": "code",
   "execution_count": 260,
   "metadata": {},
   "outputs": [],
   "source": [
    "martguad = plot.loc[(plot['REGION'] == 'Martinique')|(plot['REGION'] == 'Guadeloupe')]"
   ]
  },
  {
   "cell_type": "code",
   "execution_count": 262,
   "metadata": {
    "scrolled": true
   },
   "outputs": [
    {
     "data": {
      "text/plain": [
       "[Text(0.5, 1.0, 'Relation analysis between Exceeding Fees and Density')]"
      ]
     },
     "execution_count": 262,
     "metadata": {},
     "output_type": "execute_result"
    },
    {
     "data": {
      "image/png": "[encoded data removed]",
      "text/plain": [
       "<Figure size 864x576 with 1 Axes>"
      ]
     },
     "metadata": {
      "needs_background": "light"
     },
     "output_type": "display_data"
    }
   ],
   "source": [
    "plt.figure(figsize=(12,8))\n",
    "sns.scatterplot(data = martguad, x = 'DEPASSEMENTS (Euros)', y='DENSITE /100 000 hab.', hue='REGION').set(title = 'Relation analysis between Exceeding Fees and Density')"
   ]
  },
  {
   "cell_type": "markdown",
   "metadata": {},
   "source": [
    "- According to the visualisation we dont find any correlation."
   ]
  },
  {
   "cell_type": "code",
   "execution_count": 185,
   "metadata": {
    "scrolled": true
   },
   "outputs": [
    {
     "data": {
      "text/html": [
       "<div>\n",
       "<style scoped>\n",
       "    .dataframe tbody tr th:only-of-type {\n",
       "        vertical-align: middle;\n",
       "    }\n",
       "\n",
       "    .dataframe tbody tr th {\n",
       "        vertical-align: top;\n",
       "    }\n",
       "\n",
       "    .dataframe thead th {\n",
       "        text-align: right;\n",
       "    }\n",
       "</style>\n",
       "<table border=\"1\" class=\"dataframe\">\n",
       "  <thead>\n",
       "    <tr style=\"text-align: right;\">\n",
       "      <th></th>\n",
       "      <th>EFFECTIFS</th>\n",
       "      <th>DEPASSEMENTS (Euros)</th>\n",
       "      <th>DENSITE /100 000 hab.</th>\n",
       "    </tr>\n",
       "  </thead>\n",
       "  <tbody>\n",
       "    <tr>\n",
       "      <th>EFFECTIFS</th>\n",
       "      <td>1.000000</td>\n",
       "      <td>-0.009038</td>\n",
       "      <td>0.999590</td>\n",
       "    </tr>\n",
       "    <tr>\n",
       "      <th>DEPASSEMENTS (Euros)</th>\n",
       "      <td>-0.009038</td>\n",
       "      <td>1.000000</td>\n",
       "      <td>-0.009147</td>\n",
       "    </tr>\n",
       "    <tr>\n",
       "      <th>DENSITE /100 000 hab.</th>\n",
       "      <td>0.999590</td>\n",
       "      <td>-0.009147</td>\n",
       "      <td>1.000000</td>\n",
       "    </tr>\n",
       "  </tbody>\n",
       "</table>\n",
       "</div>"
      ],
      "text/plain": [
       "                       EFFECTIFS  DEPASSEMENTS (Euros)  DENSITE /100 000 hab.\n",
       "EFFECTIFS               1.000000             -0.009038               0.999590\n",
       "DEPASSEMENTS (Euros)   -0.009038              1.000000              -0.009147\n",
       "DENSITE /100 000 hab.   0.999590             -0.009147               1.000000"
      ]
     },
     "execution_count": 185,
     "metadata": {},
     "output_type": "execute_result"
    }
   ],
   "source": [
    "martguad.corr()"
   ]
  },
  {
   "cell_type": "markdown",
   "metadata": {},
   "source": [
    "- The Correlation table confirm that there is not any relation between Depassement and Densité"
   ]
  },
  {
   "cell_type": "markdown",
   "metadata": {},
   "source": [
    "**We conclude that in general depassement and density doesn't have a strong link. Howerever we found some correlation when we specificly analyse by 'top' spéciality. Indeed, we found positive correlations for Dentists and Spécialists in France, especially in the Region Ile de France. Also, an interesting fact that the higher the depassement is in the regions the lower the density of specialistes.**"
   ]
  }
 ],
 "metadata": {
  "kernelspec": {
   "display_name": "Python 3",
   "language": "python",
   "name": "python3"
  },
  "language_info": {
   "codemirror_mode": {
    "name": "ipython",
    "version": 3
   },
   "file_extension": ".py",
   "mimetype": "text/x-python",
   "name": "python",
   "nbconvert_exporter": "python",
   "pygments_lexer": "ipython3",
   "version": "3.7.4"
  }
 },
 "nbformat": 4,
 "nbformat_minor": 4
}
